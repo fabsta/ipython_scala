{
 "cells": [
  {
   "cell_type": "code",
   "execution_count": 1,
   "metadata": {
    "collapsed": false
   },
   "outputs": [
    {
     "name": "stdout",
     "output_type": "stream",
     "text": []
    },
    {
     "name": "stderr",
     "output_type": "stream",
     "text": []
    },
    {
     "data": {
      "text/plain": [
       "org.apache.spark.SparkContext@30a01dd8"
      ]
     },
     "execution_count": 1,
     "metadata": {},
     "output_type": "execute_result"
    }
   ],
   "source": [
    "sc"
   ]
  },
  {
   "cell_type": "code",
   "execution_count": 2,
   "metadata": {
    "collapsed": false
   },
   "outputs": [
    {
     "name": "stdout",
     "output_type": "stream",
     "text": []
    },
    {
     "name": "stderr",
     "output_type": "stream",
     "text": []
    },
    {
     "data": {
      "text/plain": [
       "3"
      ]
     },
     "execution_count": 2,
     "metadata": {},
     "output_type": "execute_result"
    }
   ],
   "source": [
    "1+2"
   ]
  },
  {
   "cell_type": "code",
   "execution_count": 3,
   "metadata": {
    "collapsed": false
   },
   "outputs": [
    {
     "name": "stdout",
     "output_type": "stream",
     "text": []
    },
    {
     "name": "stderr",
     "output_type": "stream",
     "text": []
    },
    {
     "data": {
      "text/plain": [
       "3"
      ]
     },
     "execution_count": 3,
     "metadata": {},
     "output_type": "execute_result"
    }
   ],
   "source": [
    "def abs(x: Double) = if (x<0) -x else x"
   ]
  },
  {
   "cell_type": "code",
   "execution_count": 4,
   "metadata": {
    "collapsed": false
   },
   "outputs": [
    {
     "name": "stdout",
     "output_type": "stream",
     "text": []
    },
    {
     "name": "stderr",
     "output_type": "stream",
     "text": []
    },
    {
     "data": {
      "text/plain": [
       "4.0"
      ]
     },
     "execution_count": 4,
     "metadata": {},
     "output_type": "execute_result"
    }
   ],
   "source": [
    "abs(-4)"
   ]
  },
  {
   "cell_type": "code",
   "execution_count": null,
   "metadata": {
    "collapsed": false
   },
   "outputs": [],
   "source": [
    "def isGoodEnough(guess: Double, x: Double) =\n",
    "    abs(guess * guess - x) /x < 0.01\n",
    "\n",
    "def improve(guess: Double, x: Double) = \n",
    "    (guess + x / guess) /2\n",
    "\n",
    "def sqrt(x: Double) = sqrtIter(1.0,x)\n",
    "\n",
    "def sqrtIter(guess: Double, x: Double): Double=\n",
    "    if(isGoodEnough(guess,x)) guess\n",
    "    else sqrtIter(improve(guess,x),x)\n",
    "    \n",
    "println(\"2: \",sqrt(2))\n",
    "println(sqrt(4))    \n",
    "println(sqrt(1e-6))    \n",
    "println(sqrt(1e60))    \n",
    "\n",
    "//sqrt(4)    \n",
    "    "
   ]
  },
  {
   "cell_type": "markdown",
   "metadata": {
    "collapsed": true
   },
   "source": [
    "##Blocks (nested functions)\n",
    "Avoiding namespace pollution\n"
   ]
  },
  {
   "cell_type": "code",
   "execution_count": null,
   "metadata": {
    "collapsed": true
   },
   "outputs": [],
   "source": [
    "{\n",
    "val x = f(3)\n",
    "x * x\n",
    "}"
   ]
  },
  {
   "cell_type": "code",
   "execution_count": 16,
   "metadata": {
    "collapsed": false
   },
   "outputs": [
    {
     "name": "stdout",
     "output_type": "stream",
     "text": [
      "(2: ,1.4166666666666665)\n",
      "2.000609756097561\n",
      "0.0010005538710539446\n",
      "1.0000788456669446E30\n"
     ]
    },
    {
     "name": "stderr",
     "output_type": "stream",
     "text": []
    }
   ],
   "source": [
    "def sqrt(x: Double) = {\n",
    "    def isGoodEnough(guess: Double) =\n",
    "        abs(guess * guess - x) /x < 0.01\n",
    "\n",
    "    def improve(guess: Double) = \n",
    "        (guess + x / guess) /2\n",
    "\n",
    "    def sqrtIter(guess: Double): Double=\n",
    "        if(isGoodEnough(guess)) guess\n",
    "        else sqrtIter(improve(guess))\n",
    "\n",
    "    sqrtIter(1.0)   \n",
    "}\n",
    "println(\"2: \",sqrt(2))\n",
    "println(sqrt(4))    \n",
    "println(sqrt(1e-6))    \n",
    "println(sqrt(1e60)) "
   ]
  },
  {
   "cell_type": "markdown",
   "metadata": {},
   "source": [
    "##Semicolon in Scala\n",
    "nor required\n",
    "\n",
    "###multi-line\n",
    "(statement 1\n",
    "+ statement 2)\n",
    "\n",
    "statement1 +\n",
    "statement2\n"
   ]
  },
  {
   "cell_type": "markdown",
   "metadata": {},
   "source": []
  },
  {
   "cell_type": "code",
   "execution_count": null,
   "metadata": {
    "collapsed": true
   },
   "outputs": [],
   "source": []
  },
  {
   "cell_type": "markdown",
   "metadata": {},
   "source": [
    "##Tail recursion\n",
    "If function call itself as last action, \n",
    "you can reuse function stack frame"
   ]
  },
  {
   "cell_type": "markdown",
   "metadata": {},
   "source": [
    "##Factorial\n",
    "non-tail recursive "
   ]
  },
  {
   "cell_type": "code",
   "execution_count": null,
   "metadata": {
    "collapsed": true
   },
   "outputs": [],
   "source": [
    "def factorial(n:Int): Int = \n",
    "    if(n==0) 1 else n * factorial(n-1)\n",
    "    \n",
    "    \n",
    "println(factorial(2))\n",
    "println(factorial(6))\n",
    "println(factorial(10))\n"
   ]
  },
  {
   "cell_type": "markdown",
   "metadata": {},
   "source": [
    "##enable tail recursion\n",
    "uses keyword '@tailrec'\n",
    "\n",
    "If function is not a tail-recursive -> error"
   ]
  },
  {
   "cell_type": "code",
   "execution_count": null,
   "metadata": {
    "collapsed": true
   },
   "outputs": [],
   "source": [
    "@tailrec\n",
    "def gcd(x:Int,y:Int):Int =\n"
   ]
  },
  {
   "cell_type": "markdown",
   "metadata": {},
   "source": [
    "###tail-recursive version of factorial"
   ]
  },
  {
   "cell_type": "code",
   "execution_count": null,
   "metadata": {
    "collapsed": true
   },
   "outputs": [],
   "source": [
    "def factorial(n:Int):Int =\n",
    "    def loop(acc:Int, n:Int):Int = \n",
    "        if(acc == 0) acc\n",
    "        else loop(acc * n, n -1)\n",
    "    loop(1, 0)    \n",
    "    \n",
    "    \n",
    "println(factorial(2))    "
   ]
  },
  {
   "cell_type": "code",
   "execution_count": null,
   "metadata": {
    "collapsed": true
   },
   "outputs": [],
   "source": []
  }
 ],
 "metadata": {
  "kernelspec": {
   "display_name": "Python 2",
   "language": "python",
   "name": "python2"
  },
  "language_info": {
   "name": "scala",
   "version": "2.10.4"
  }
 },
 "nbformat": 4,
 "nbformat_minor": 0
}
