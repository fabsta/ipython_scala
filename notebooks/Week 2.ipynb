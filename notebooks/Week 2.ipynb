{
 "cells": [
  {
   "cell_type": "markdown",
   "metadata": {},
   "source": [
    "#High-order function\n",
    "as opposed to first-order functions\n",
    "\n",
    "treat functions as first class values\n",
    "can be passed as argument"
   ]
  },
  {
   "cell_type": "code",
   "execution_count": null,
   "metadata": {
    "collapsed": true
   },
   "outputs": [],
   "source": [
    "def sum(f:Int=> Int, a: Int, b: Int): Int =\n",
    "    if(a> b) 0\n",
    "    else f(a) + sum(f,a+1,b)\n",
    "    \n",
    "def sumInts(a: Int, b: Int) = sum(id,a,b)    \n",
    "def sumCubes(a: Int, b: Int) = sum(cube,a,b)    \n",
    "def sumFactorials(a: Int, b: Int) = sum(fact,a,b)    \n",
    "\n",
    "def id(x: Int): Int = x\n",
    "def cube(x: Int): Int = x * x * x\n",
    "def fact(x: Int): Int = if (x==0) = else fact(x-1)"
   ]
  },
  {
   "cell_type": "markdown",
   "metadata": {},
   "source": [
    "##Function types\n",
    "\n",
    "\n",
    "Int => Int maps Integers to Integers"
   ]
  },
  {
   "cell_type": "markdown",
   "metadata": {},
   "source": [
    "##Anonymous Functions"
   ]
  },
  {
   "cell_type": "code",
   "execution_count": null,
   "metadata": {
    "collapsed": true
   },
   "outputs": [],
   "source": [
    "def sumInts(a: Int, b: Int) = sum(x => x,a,b)    \n",
    "def sumCubes(a: Int, b: Int) = sum(x=>x*x*x,a,b)    \n",
    "def sumFactorials(a: Int, b: Int) = sum(fact,a,b)    \n"
   ]
  },
  {
   "cell_type": "markdown",
   "metadata": {},
   "source": [
    "##Currying\n",
    "Functions returning functions\n",
    "\n",
    "###Example:\n",
    "Sum is a function that returns another function"
   ]
  },
  {
   "cell_type": "code",
   "execution_count": null,
   "metadata": {
    "collapsed": true
   },
   "outputs": [],
   "source": [
    "def sum(f: Int => Int): (Int, Int) => Int ={\n",
    "    def sumF(a: Int, b: Int): Int = \n",
    "        if (a> b) 0\n",
    "        else f(a) + sumF(a+1, b)\n",
    "    sumF    \n",
    "}"
   ]
  },
  {
   "cell_type": "code",
   "execution_count": null,
   "metadata": {
    "collapsed": true
   },
   "outputs": [],
   "source": [
    "# now we can rewrite\n",
    "def sumInts = sum(x => x)\n",
    "def sumCubes = sum(x => x*x*x)\n",
    "def sumFactorials = sum(fact)\n"
   ]
  }
 ],
 "metadata": {
  "kernelspec": {
   "display_name": "Python 2",
   "language": "python",
   "name": "python2"
  },
  "language_info": {
   "name": "scala",
   "version": "2.10.4"
  }
 },
 "nbformat": 4,
 "nbformat_minor": 0
}
